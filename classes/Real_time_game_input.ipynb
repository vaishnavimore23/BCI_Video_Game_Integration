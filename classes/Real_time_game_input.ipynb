{
 "cells": [
  {
   "cell_type": "code",
   "execution_count": 1,
   "id": "8b3eeb86",
   "metadata": {},
   "outputs": [
    {
     "ename": "",
     "evalue": "",
     "output_type": "error",
     "traceback": [
      "\u001b[1;31mCanceled future for execute_request message before replies were done"
     ]
    },
    {
     "ename": "",
     "evalue": "",
     "output_type": "error",
     "traceback": [
      "\u001b[1;31mThe Kernel crashed while executing code in the the current cell or a previous cell. Please review the code in the cell(s) to identify a possible cause of the failure. Click <a href='https://aka.ms/vscodeJupyterKernelCrash'>here</a> for more info. View Jupyter <a href='command:jupyter.viewOutput'>log</a> for further details."
     ]
    }
   ],
   "source": [
    "import pygds\n",
    "\n",
    "\n",
    "d = pygds.GDS()\n",
    "\n",
    "d.TriggerEnabled == d.Trigger\n",
    "d.Trigger = True\n",
    "d.SetConfiguration()\n",
    "\n",
    "for c in d.Configs:\n",
    "    c.Trigger = True\n",
    "d.SetConfiguration()\n",
    "d.SamplingRate = 500\n",
    "w = True\n",
    "while(w) :\n",
    "    a = d.GetData(d.SamplingRate)\n",
    "\n",
    "    print(\"yes\")\n",
    "\n",
    "d.close()"
   ]
  },
  {
   "cell_type": "code",
   "execution_count": 1,
   "id": "50d7a430",
   "metadata": {},
   "outputs": [
    {
     "name": "stdout",
     "output_type": "stream",
     "text": [
      "Defaulting to user installation because normal site-packages is not writeable\n",
      "Collecting pygds\n",
      "  Using cached pygds-0.2.0-py3-none-any.whl (16 kB)\n",
      "Collecting neo4j\n",
      "  Downloading neo4j-5.7.0.tar.gz (176 kB)\n",
      "     ------------------------------------- 176.3/176.3 kB 10.4 MB/s eta 0:00:00\n",
      "  Installing build dependencies: started\n",
      "  Installing build dependencies: finished with status 'done'\n",
      "  Getting requirements to build wheel: started\n",
      "  Getting requirements to build wheel: finished with status 'done'\n",
      "  Installing backend dependencies: started\n",
      "  Installing backend dependencies: finished with status 'done'\n",
      "  Preparing metadata (pyproject.toml): started\n",
      "  Preparing metadata (pyproject.toml): finished with status 'done'\n",
      "Requirement already satisfied: pytz in c:\\programdata\\anaconda3\\lib\\site-packages (from neo4j->pygds) (2022.7)\n",
      "Building wheels for collected packages: neo4j\n",
      "  Building wheel for neo4j (pyproject.toml): started\n",
      "  Building wheel for neo4j (pyproject.toml): finished with status 'done'\n",
      "  Created wheel for neo4j: filename=neo4j-5.7.0-py3-none-any.whl size=243969 sha256=1cf9bf2ccb11b4353fd24336858a8be0dfe351c29043e663ee9d6bc09e3296b0\n",
      "  Stored in directory: c:\\users\\khalilma10\\appdata\\local\\pip\\cache\\wheels\\3e\\fe\\f2\\37760c6b7031248541b764b2b8dc3acb947fea50ddd2925f5c\n",
      "Successfully built neo4j\n",
      "Installing collected packages: neo4j, pygds\n",
      "Successfully installed neo4j-5.7.0 pygds-0.2.0\n",
      "Note: you may need to restart the kernel to use updated packages.\n"
     ]
    }
   ],
   "source": [
    "pip install pygds\n"
   ]
  },
  {
   "cell_type": "code",
   "execution_count": null,
   "id": "58416f38",
   "metadata": {},
   "outputs": [],
   "source": []
  }
 ],
 "metadata": {
  "kernelspec": {
   "display_name": "Python 3 (ipykernel)",
   "language": "python",
   "name": "python3"
  },
  "language_info": {
   "codemirror_mode": {
    "name": "ipython",
    "version": 3
   },
   "file_extension": ".py",
   "mimetype": "text/x-python",
   "name": "python",
   "nbconvert_exporter": "python",
   "pygments_lexer": "ipython3",
   "version": "3.10.9"
  }
 },
 "nbformat": 4,
 "nbformat_minor": 5
}
