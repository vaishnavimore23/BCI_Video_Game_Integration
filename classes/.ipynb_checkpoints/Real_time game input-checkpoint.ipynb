{
 "cells": [
  {
   "cell_type": "code",
   "execution_count": null,
   "id": "8b3eeb86",
   "metadata": {},
   "outputs": [],
   "source": [
    "import pygds\n",
    "d = pygds.GDS()\n",
    "\n",
    "d.TriggerEnabled == d.Trigger\n",
    "d.Trigger = True\n",
    "d.SetConfiguration()\n",
    "\n",
    "for c in d.Configs:\n",
    "    c.Trigger = True\n",
    "d.SetConfiguration()\n",
    "d.SamplingRate = 500\n",
    "w = True\n",
    "while(w) :\n",
    "    a = d.GetData(d.SamplingRate)\n",
    "\n"
   ]
  }
 ],
 "metadata": {
  "kernelspec": {
   "display_name": "Python 3 (ipykernel)",
   "language": "python",
   "name": "python3"
  },
  "language_info": {
   "codemirror_mode": {
    "name": "ipython",
    "version": 3
   },
   "file_extension": ".py",
   "mimetype": "text/x-python",
   "name": "python",
   "nbconvert_exporter": "python",
   "pygments_lexer": "ipython3",
   "version": "3.10.9"
  }
 },
 "nbformat": 4,
 "nbformat_minor": 5
}
